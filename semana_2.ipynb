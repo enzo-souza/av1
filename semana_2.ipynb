{
 "cells": [
  {
   "cell_type": "markdown",
   "metadata": {},
   "source": [
    "Semana 2"
   ]
  },
  {
   "cell_type": "markdown",
   "metadata": {},
   "source": [
    "![alt text]({AA5B9496-2B0F-4B0D-A781-B0A8068A051A}.png)"
   ]
  },
  {
   "cell_type": "markdown",
   "metadata": {},
   "source": [
    "teste"
   ]
  },
  {
   "cell_type": "code",
   "execution_count": 4,
   "metadata": {},
   "outputs": [
    {
     "name": "stdout",
     "output_type": "stream",
     "text": [
      "DIGITE SEU RA: 11201921191\n",
      "SOMA DOS DÍGITOS DO RA: 28\n",
      "VELOCIDADE INICIAL: 784\n",
      "ALTURA MÁXIMA ATINGIDA: 40\n"
     ]
    }
   ],
   "source": [
    "#calculo da somo so RA\n",
    "#pedir para usuário digitar o RA\n",
    "ra = print(\"DIGITE SEU RA:\",int(input()))\n",
    "\n",
    "ra = 11201921191\n",
    "b = 0\n",
    "\n",
    "for i in range(0,11):\n",
    "    b = b+ra%10\n",
    "    ra = ra - ra%10\n",
    "    ra = ra/10\n",
    "\n",
    "print(\"SOMA DOS DÍGITOS DO RA:\",int(b))\n",
    "print('VELOCIDADE INICIAL:',int(b*b))\n",
    "\n",
    "\n",
    "#calcular a altura\n",
    "h = b*b/(2*9.8)\n",
    "print(\"ALTURA MÁXIMA ATINGIDA:\", int(h))\n",
    "\n",
    "\n",
    "\n"
   ]
  }
 ],
 "metadata": {
  "kernelspec": {
   "display_name": "base",
   "language": "python",
   "name": "python3"
  },
  "language_info": {
   "codemirror_mode": {
    "name": "ipython",
    "version": 3
   },
   "file_extension": ".py",
   "mimetype": "text/x-python",
   "name": "python",
   "nbconvert_exporter": "python",
   "pygments_lexer": "ipython3",
   "version": "3.12.7"
  }
 },
 "nbformat": 4,
 "nbformat_minor": 2
}
